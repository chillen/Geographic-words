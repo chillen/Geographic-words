{
 "cells": [
  {
   "cell_type": "code",
   "execution_count": 3,
   "metadata": {
    "collapsed": false
   },
   "outputs": [],
   "source": [
    "import csv\n",
    "import re\n",
    "import glob\n",
    "import math\n",
    "import pickle\n",
    "import json\n",
    "from nltk.corpus import stopwords\n",
    "import nltk\n",
    "import zlib\n",
    "from pprint import pprint\n",
    "from collections import Counter"
   ]
  },
  {
   "cell_type": "code",
   "execution_count": 173,
   "metadata": {
    "collapsed": true
   },
   "outputs": [],
   "source": [
    "class color:\n",
    "   PURPLE = '\\033[95m'\n",
    "   CYAN = '\\033[96m'\n",
    "   DARKCYAN = '\\033[36m'\n",
    "   BLUE = '\\033[94m'\n",
    "   GREEN = '\\033[92m'\n",
    "   YELLOW = '\\033[93m'\n",
    "   RED = '\\033[91m'\n",
    "   BOLD = '\\033[1m'\n",
    "   UNDERLINE = '\\033[4m'\n",
    "   END = '\\033[0m'"
   ]
  },
  {
   "cell_type": "code",
   "execution_count": 145,
   "metadata": {
    "collapsed": true
   },
   "outputs": [],
   "source": [
    "class TrackedWord:\n",
    "    def __init__(self, word):\n",
    "        self.word = word\n",
    "        self.nearby = {}\n",
    "        self.count = 1\n",
    "        self.weight = -1\n",
    "    def __iadd__(self, other):\n",
    "        self.count += other\n",
    "        return self\n",
    "    def addNear(self, N, word1):\n",
    "        if N not in self.nearby:\n",
    "            self.nearby[N] = Counter()\n",
    "        if word1 != '':\n",
    "            self.nearby[N][word1] += 1\n",
    "    def near(self, N):\n",
    "        '''Returns the words which are N away'''\n",
    "        if N in self.nearby:\n",
    "            return self.nearby[N]\n",
    "        else:\n",
    "            return Counter()\n",
    "    def sumNear(self, N):\n",
    "        '''Returns the sum of all words within the range 1-N'''\n",
    "        if N in self.nearby:\n",
    "            relevant = []\n",
    "            for i in range(1, N+1):\n",
    "                relevant.append(self.nearby[i])\n",
    "            return reduce((lambda x, y: x + y), relevant)\n",
    "    def getWeight(self):\n",
    "        '''Returns tf-idf of the word'''\n",
    "        if self.weight < 0:\n",
    "            df = float(WordTrackModel.df[self.word])\n",
    "            n = float(WordTrackModel.totalworks)\n",
    "            self.weight = float(self.count) * math.log(n/df)\n",
    "        return self.weight"
   ]
  },
  {
   "cell_type": "code",
   "execution_count": 158,
   "metadata": {
    "collapsed": false
   },
   "outputs": [],
   "source": [
    "class WordTrackModel:\n",
    "    \n",
    "    stops = set(stopwords.words(\"english\")[:])\n",
    "    english = set(json.load(open('data/english.json', 'r')))\n",
    "    totalworks = 0\n",
    "    df = Counter()\n",
    "    \n",
    "    def __init__(self, name, f, data={}):\n",
    "        self.name = name\n",
    "        self.f = f\n",
    "        self.text = self.loadfile(f)\n",
    "        self.words = {}\n",
    "        self.tracked = set([0])\n",
    "        self.data = data\n",
    "        WordTrackModel.totalworks += 1\n",
    "    \n",
    "    def loadfile(self, f):\n",
    "        lines = []\n",
    "        text = []\n",
    "        with open(f, mode='r') as infile:\n",
    "            lines = infile.readlines()\n",
    "        started = False\n",
    "        ended = False\n",
    "        for line in lines:\n",
    "            if not started:\n",
    "                if '*** START' in line or '***START' in line:\n",
    "                    started = True\n",
    "                continue\n",
    "            if '*** END' in line or '***END' in line:\n",
    "                break\n",
    "            line = line.strip('\\n')\n",
    "            line = unicode(line, \"ascii\", errors=\"ignore\")\n",
    "            line =  re.sub(\"[^a-zA-Z]\", \" \", line)\n",
    "            line = line.lower()\n",
    "            text.extend(line.split())\n",
    "        text = \" \".join([w for w in text if w not in self.stops and w in self.english])\n",
    "        self.df.update(set(text.split()))\n",
    "        return zlib.compress(text)\n",
    "    \n",
    "    def wordlist(self):\n",
    "        return zlib.decompress(self.text).split()\n",
    "    \n",
    "    def distTrack(self, N):\n",
    "        words = self.wordlist()\n",
    "        if N in self.tracked:\n",
    "            return self\n",
    "        for i, word in enumerate(words):\n",
    "            if word not in self.words:\n",
    "                self.words[word] = TrackedWord(word)\n",
    "            for j in range(N, 0, -1):\n",
    "                if j in self.tracked:\n",
    "                    break\n",
    "                wNback = words[i-j] if i-j >= 0 else ''\n",
    "                wNfor = words[i+j] if i+j < len(words) else ''\n",
    "                self.words[word].addNear(j, wNback)\n",
    "                self.words[word].addNear(j, wNfor)\n",
    "                self.words[word] += 1\n",
    "        for i in range(N, 0, -1):\n",
    "            if i not in self.tracked:\n",
    "                self.tracked.add(i)\n",
    "            else:\n",
    "                break\n",
    "        return self\n",
    "                \n",
    "    def near(self, word, N, most=0):\n",
    "        if N not in self.tracked:\n",
    "            self.distTrack(N)\n",
    "        if word in self.words:\n",
    "            return self.words[word].near(N) if most <= 0 else self.words[word].near(N).most_common(most)\n",
    "        else:\n",
    "            return Counter() if most <= 0 else []\n",
    "        \n",
    "    def orderby(self, words, method, reverse=True):\n",
    "        if method == 'frequency':\n",
    "            return words.most_common()\n",
    "        if method == 'importance':\n",
    "            sortedwords = sorted([ (self.words[w].getWeight(), w) for w in words], reverse=reverse)\n",
    "            return [(w[1], w[0]) for w in sortedwords]\n",
    "        \n",
    "    def sumNear(self, word, N, most=0, orderby='frequency'):\n",
    "        if N not in self.tracked:\n",
    "            self.distTrack(N)\n",
    "        if word in self.words:\n",
    "            nearby = self.words[word].sumNear(N)\n",
    "            nearby = self.orderby(nearby, orderby)\n",
    "            return nearby if most == 0 else nearby[:most]\n",
    "        else:\n",
    "            return []\n",
    "    def most_common(self, N=-1):\n",
    "        if N > 0: return Counter(self.wordlist()).most_common(N)\n",
    "        return Counter(self.wordlist()).most_common()\n",
    "    def most_important(self, maxnum=-1):\n",
    "        words = set()\n",
    "        for word in self.words:\n",
    "            words.add((self.words[word].getWeight(), word))\n",
    "        if maxnum > 0: return sorted(words, reverse=True)[:maxnum]\n",
    "        return sorted(words, reverse=True)"
   ]
  },
  {
   "cell_type": "code",
   "execution_count": 159,
   "metadata": {
    "collapsed": false
   },
   "outputs": [],
   "source": [
    "def getGutenbergMeta(f):\n",
    "    data = {'title': 'xxx', 'author': 'xxx'}\n",
    "    with open(f) as infile:\n",
    "        for line in infile.readlines():\n",
    "            if line.startswith('Title: '):\n",
    "                data['title'] = unicode(line[len('Title: '):].strip('\\n'), \"ascii\", errors=\"ignore\")\n",
    "            if line.startswith('Author: '):\n",
    "                data['author'] = unicode(line[len('Author: '):].strip('\\n'), \"ascii\", errors=\"ignore\")\n",
    "    return data"
   ]
  },
  {
   "cell_type": "code",
   "execution_count": 160,
   "metadata": {
    "collapsed": false
   },
   "outputs": [
    {
     "name": "stdout",
     "output_type": "stream",
     "text": [
      "[0] Currently processing  {'author': u'James Joyce', 'title': u'Ulysses'} ...\n",
      "[1] Currently processing  {'author': u'Oscar Wilde', 'title': u'The Importance of Being Earnest'} ...\n",
      "[2] Currently processing  {'author': u'James M. Barrie', 'title': u'Peter Pan'} ...\n",
      "[3] Currently processing  {'author': u'Rudyard Kipling', 'title': u'The Jungle Book'} ...\n",
      "[4] Currently processing  {'author': u'Arthur Conan Doyle', 'title': u'The Return of Sherlock Holmes'} ...\n",
      "[5] Currently processing  {'author': u'H. G. (Herbert George) Wells', 'title': u'The Time Machine'} ...\n",
      "[6] Currently processing  {'author': u'Lucy Maud Montgomery', 'title': u'Anne of Green Gables'} ...\n",
      "[7] Currently processing  {'author': u'L. Frank Baum', 'title': u'The Wonderful Wizard of Oz'} ...\n",
      "[8] Currently processing  {'author': u'Mark Twain (Samuel Clemens)', 'title': u'The Adventures of Tom Sawyer, Complete'} ...\n",
      "[9] Currently processing  {'author': u'Charles Dickens', 'title': u'A Christmas Carol'} ...\n",
      "[10] Currently processing  {'author': u'Jane Austen', 'title': u'Persuasion'} ...\n",
      "[11] Currently processing  {'author': u'Jane Austen', 'title': u'Sense and Sensibility'} ...\n",
      "[12] Currently processing  {'author': u'Charles Dickens', 'title': u'A Tale of Two Cities'} ...\n",
      "[13] Currently processing  {'author': u'Herman Melville', 'title': u'Moby Dick; or The Whale'} ...\n",
      "[14] Currently processing  {'author': u'Arthur Conan Doyle', 'title': u'The Adventures of Sherlock Holmes'} ...\n",
      "[15] Currently processing  {'author': u'Charles Dickens', 'title': u'Great Expectations'} ...\n",
      "[16] Currently processing  {'author': u'Bram Stoker', 'title': u'Dracula'} ...\n",
      "[17] Currently processing  {'author': u'The Brothers Grimm', 'title': u'Grimms Fairy Tales'} ...\n",
      "[18] Currently processing  {'author': u'H. G. Wells', 'title': u'The War of the Worlds'} ...\n",
      "[19] Currently processing  {'author': u'Jane Austen', 'title': u'Mansfield Park'} ...\n",
      "[20] Currently processing  {'author': u'Robert Louis Stevenson', 'title': u'Dr. Jekyll and Mr. Hyde'} ...\n",
      "[21] Currently processing  {'author': u'Friedrich Nietzsche', 'title': u'Beyond Good and Evil'} ...\n",
      "[22] Currently processing  {'author': u'James Joyce', 'title': u'Dubliners'} ...\n",
      "[23] Currently processing  {'author': u'Jane Austen', 'title': u'Emma'} ...\n",
      "[24] Currently processing  {'author': u'Joseph Conrad', 'title': u'Heart of Darkness'} ...\n",
      "[25] Currently processing  {'author': u'Jonathan Swift', 'title': u\"Gulliver's Travels\"} ...\n",
      "[26] Currently processing  {'author': u'Edgar Allan Poe', 'title': u'The Works of Edgar Allan Poe'} ...\n",
      "[27] Currently processing  {'author': u'Jane Austen', 'title': u'Pride and Prejudice'} ...\n",
      "[28] Currently processing  {'author': u'Franz Kafka', 'title': u'Metamorphosis'} ...\n",
      "[29] Currently processing  {'author': u'Agatha Christie', 'title': u'The Secret Adversary'} ...\n",
      "[30] Currently processing  {'author': u'Charles Dickens', 'title': u'Oliver Twist'} ...\n",
      "[31] Currently processing  {'author': u'Charles Dodgson, AKA Lewis Carroll', 'title': u'Through the Looking-Glass'} ...\n",
      "[32] Currently processing  {'author': u'John Milton', 'title': u'Paradise Lost'} ...\n",
      "[33] Currently processing  {'author': u'Lewis Carroll', 'title': u'Alices Adventures in Wonderland'} ...\n",
      "[34] Currently processing  {'author': u'Mary Wollstonecraft (Godwin) Shelley', 'title': u'Frankenstein'} ...\n",
      "[35] Currently processing  {'author': u'Daniel Defoe', 'title': u'The Life and Adventures of Robinson Crusoe'} ...\n",
      "[36] Currently processing  {'author': u'Mark Twain (Samuel Clemens)', 'title': u'Adventures of Huckleberry Finn, Complete'} ...\n",
      "[37] Currently processing  {'author': u'Emily Bronte', 'title': u'Wuthering Heights'} ...\n",
      "[38] Currently processing  {'author': u'Oscar Wilde', 'title': u'The Picture of Dorian Gray'} ...\n",
      "[39] Currently processing  {'author': u'Homer', 'title': u'The Iliad of Homer'} ...\n"
     ]
    }
   ],
   "source": [
    "models = []\n",
    "WordTrackModel.df = Counter() # This is to reset it for notebook's sake\n",
    "WordTrackModel.totalworks = 0 # This is to reset it for notebook's sake\n",
    "for i, f in enumerate(glob.glob('data/*.txt')):\n",
    "    data = getGutenbergMeta(f)\n",
    "    print '['+str(i)+'] Currently processing ', data, '...'\n",
    "    models.append(WordTrackModel(data['title'], f, data))"
   ]
  },
  {
   "cell_type": "code",
   "execution_count": 161,
   "metadata": {
    "collapsed": false
   },
   "outputs": [
    {
     "name": "stdout",
     "output_type": "stream",
     "text": [
      "[0] Currently processing  {'author': u'James Joyce', 'title': u'Ulysses'} ...\n",
      "[1] Currently processing  {'author': u'Oscar Wilde', 'title': u'The Importance of Being Earnest'} ...\n",
      "[2] Currently processing  {'author': u'James M. Barrie', 'title': u'Peter Pan'} ...\n",
      "[3] Currently processing  {'author': u'Rudyard Kipling', 'title': u'The Jungle Book'} ...\n",
      "[4] Currently processing  {'author': u'Arthur Conan Doyle', 'title': u'The Return of Sherlock Holmes'} ...\n",
      "[5] Currently processing  {'author': u'H. G. (Herbert George) Wells', 'title': u'The Time Machine'} ...\n",
      "[6] Currently processing  {'author': u'Lucy Maud Montgomery', 'title': u'Anne of Green Gables'} ...\n",
      "[7] Currently processing  {'author': u'L. Frank Baum', 'title': u'The Wonderful Wizard of Oz'} ...\n",
      "[8] Currently processing  {'author': u'Mark Twain (Samuel Clemens)', 'title': u'The Adventures of Tom Sawyer, Complete'} ...\n",
      "[9] Currently processing  {'author': u'Charles Dickens', 'title': u'A Christmas Carol'} ...\n",
      "[10] Currently processing  {'author': u'Jane Austen', 'title': u'Persuasion'} ...\n",
      "[11] Currently processing  {'author': u'Jane Austen', 'title': u'Sense and Sensibility'} ...\n",
      "[12] Currently processing  {'author': u'Charles Dickens', 'title': u'A Tale of Two Cities'} ...\n",
      "[13] Currently processing  {'author': u'Herman Melville', 'title': u'Moby Dick; or The Whale'} ...\n",
      "[14] Currently processing  {'author': u'Arthur Conan Doyle', 'title': u'The Adventures of Sherlock Holmes'} ...\n",
      "[15] Currently processing  {'author': u'Charles Dickens', 'title': u'Great Expectations'} ...\n",
      "[16] Currently processing  {'author': u'Bram Stoker', 'title': u'Dracula'} ...\n",
      "[17] Currently processing  {'author': u'The Brothers Grimm', 'title': u'Grimms Fairy Tales'} ...\n",
      "[18] Currently processing  {'author': u'H. G. Wells', 'title': u'The War of the Worlds'} ...\n",
      "[19] Currently processing  {'author': u'Jane Austen', 'title': u'Mansfield Park'} ...\n",
      "[20] Currently processing  {'author': u'Robert Louis Stevenson', 'title': u'Dr. Jekyll and Mr. Hyde'} ...\n",
      "[21] Currently processing  {'author': u'Friedrich Nietzsche', 'title': u'Beyond Good and Evil'} ...\n",
      "[22] Currently processing  {'author': u'James Joyce', 'title': u'Dubliners'} ...\n",
      "[23] Currently processing  {'author': u'Jane Austen', 'title': u'Emma'} ...\n",
      "[24] Currently processing  {'author': u'Joseph Conrad', 'title': u'Heart of Darkness'} ...\n",
      "[25] Currently processing  {'author': u'Jonathan Swift', 'title': u\"Gulliver's Travels\"} ...\n",
      "[26] Currently processing  {'author': u'Edgar Allan Poe', 'title': u'The Works of Edgar Allan Poe'} ...\n",
      "[27] Currently processing  {'author': u'Jane Austen', 'title': u'Pride and Prejudice'} ...\n",
      "[28] Currently processing  {'author': u'Franz Kafka', 'title': u'Metamorphosis'} ...\n",
      "[29] Currently processing  {'author': u'Agatha Christie', 'title': u'The Secret Adversary'} ...\n",
      "[30] Currently processing  {'author': u'Charles Dickens', 'title': u'Oliver Twist'} ...\n",
      "[31] Currently processing  {'author': u'Charles Dodgson, AKA Lewis Carroll', 'title': u'Through the Looking-Glass'} ...\n",
      "[32] Currently processing  {'author': u'John Milton', 'title': u'Paradise Lost'} ...\n",
      "[33] Currently processing  {'author': u'Lewis Carroll', 'title': u'Alices Adventures in Wonderland'} ...\n",
      "[34] Currently processing  {'author': u'Mary Wollstonecraft (Godwin) Shelley', 'title': u'Frankenstein'} ...\n",
      "[35] Currently processing  {'author': u'Daniel Defoe', 'title': u'The Life and Adventures of Robinson Crusoe'} ...\n",
      "[36] Currently processing  {'author': u'Mark Twain (Samuel Clemens)', 'title': u'Adventures of Huckleberry Finn, Complete'} ...\n",
      "[37] Currently processing  {'author': u'Emily Bronte', 'title': u'Wuthering Heights'} ...\n",
      "[38] Currently processing  {'author': u'Oscar Wilde', 'title': u'The Picture of Dorian Gray'} ...\n",
      "[39] Currently processing  {'author': u'Homer', 'title': u'The Iliad of Homer'} ...\n"
     ]
    }
   ],
   "source": [
    "for i, model in enumerate(models):\n",
    "    print '['+str(i)+'] Currently processing ', model.data, '...'\n",
    "    model.distTrack(3)"
   ]
  },
  {
   "cell_type": "code",
   "execution_count": 215,
   "metadata": {
    "collapsed": false
   },
   "outputs": [],
   "source": [
    "def similar_clusters(search, near, models, orderby, limit, exclusive=False):\n",
    "    clusters = {}\n",
    "    similarclusters = []\n",
    "    for model in models:\n",
    "        clusters[model.name] = set([w[0] for w in model.sumNear(search, near, limit, orderby=orderby)])\n",
    "        similarclusters = []\n",
    "        for cluster1 in clusters:\n",
    "            for cluster2 in clusters:\n",
    "                if cluster1 != cluster2:\n",
    "                    if len(clusters[cluster1] & clusters[cluster2]) > 2:\n",
    "                        newclust = ((cluster1, clusters[cluster1]), (cluster2, clusters[cluster2]))\n",
    "                        if (newclust[1], newclust[0]) not in similarclusters:\n",
    "                            similarclusters.append(newclust)\n",
    "    if not exclusive:\n",
    "        return similarclusters\n",
    "    else:\n",
    "        return [((cluster[0][0], cluster[1][0]), cluster[0][1] & cluster[1][1] )for cluster in similarclusters]"
   ]
  },
  {
   "cell_type": "code",
   "execution_count": 219,
   "metadata": {
    "collapsed": false
   },
   "outputs": [
    {
     "name": "stdout",
     "output_type": "stream",
     "text": [
      "[u'Persuasion', u'Mansfield Park']\n",
      "\n",
      "[u'Persuasion', u'Emma']\n",
      "\n",
      "[u'Persuasion', u'Sense and Sensibility']\n",
      "\n",
      "[u'Persuasion', u'Pride and Prejudice']\n",
      "\n",
      "[u'Mansfield Park', u'Emma']\n",
      "\n",
      "[u'Mansfield Park', u'Sense and Sensibility']\n",
      "\n",
      "[u'Mansfield Park', u'Pride and Prejudice']\n",
      "\n",
      "[u'Emma', u'Sense and Sensibility']\n",
      "\n",
      "[u'Emma', u'Pride and Prejudice']\n",
      "\n",
      "[u'Sense and Sensibility', u'Pride and Prejudice']\n",
      "\n"
     ]
    }
   ],
   "source": [
    "similar = similar_clusters('family', 2, models, 'importance', 20)\n",
    "for cluster in similar:\n",
    "    pprint([w[0] for w in cluster])\n",
    "    print ''"
   ]
  },
  {
   "cell_type": "code",
   "execution_count": 221,
   "metadata": {
    "collapsed": false
   },
   "outputs": [
    {
     "name": "stdout",
     "output_type": "stream",
     "text": [
      "((u'Persuasion', u'Mansfield Park'),\n",
      " set(['connexion', 'lady', 'miss', 'party', 'sister']))\n",
      "\n",
      "((u'Persuasion', u'Emma'),\n",
      " set(['colonel', 'connexion', 'lady', 'miss', 'party']))\n",
      "\n",
      "((u'Persuasion', u'Sense and Sensibility'),\n",
      " set(['colonel', 'exceedingly', 'lady', 'miss', 'sister']))\n",
      "\n",
      "((u'Persuasion', u'Pride and Prejudice'),\n",
      " set(['cousin', 'exceedingly', 'lady', 'marry', 'miss', 'sister']))\n",
      "\n",
      "((u'Mansfield Park', u'Emma'),\n",
      " set(['affection', 'connexion', 'lady', 'miss', 'party']))\n",
      "\n",
      "((u'Mansfield Park', u'Sense and Sensibility'),\n",
      " set(['affection', 'lady', 'miss', 'park', 'sister']))\n",
      "\n",
      "((u'Mansfield Park', u'Pride and Prejudice'),\n",
      " set(['affection', 'inclination', 'lady', 'letter', 'miss', 'park', 'sister']))\n",
      "\n",
      "((u'Emma', u'Sense and Sensibility'),\n",
      " set(['affection', 'colonel', 'lady', 'miss']))\n",
      "\n",
      "((u'Emma', u'Pride and Prejudice'),\n",
      " set(['affection', 'lady', 'miss', 'regard']))\n",
      "\n",
      "((u'Sense and Sensibility', u'Pride and Prejudice'),\n",
      " set(['affection', 'exceedingly', 'lady', 'miss', 'park', 'sister']))\n",
      "\n"
     ]
    }
   ],
   "source": [
    "similar = similar_clusters('family', 2, models, 'importance', 20, True)\n",
    "for cluster in similar:\n",
    "    pprint(cluster)\n",
    "    print ''"
   ]
  },
  {
   "cell_type": "markdown",
   "metadata": {},
   "source": [
    "# Great Result\n",
    "\n",
    "My clustering algorithm is actually able to detect the *same author's works* when ordering by importance. Fantastic."
   ]
  },
  {
   "cell_type": "code",
   "execution_count": null,
   "metadata": {
    "collapsed": true
   },
   "outputs": [],
   "source": []
  }
 ],
 "metadata": {
  "kernelspec": {
   "display_name": "Python 2",
   "language": "python",
   "name": "python2"
  },
  "language_info": {
   "codemirror_mode": {
    "name": "ipython",
    "version": 2
   },
   "file_extension": ".py",
   "mimetype": "text/x-python",
   "name": "python",
   "nbconvert_exporter": "python",
   "pygments_lexer": "ipython2",
   "version": "2.7.13"
  }
 },
 "nbformat": 4,
 "nbformat_minor": 2
}
